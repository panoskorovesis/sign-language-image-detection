{
 "cells": [
  {
   "cell_type": "code",
   "execution_count": 3,
   "metadata": {},
   "outputs": [
    {
     "name": "stdout",
     "output_type": "stream",
     "text": [
      "10% subset of the dataset has been created at: ../../sign_datasets/hagrid-classification-512p-10-percent\n"
     ]
    }
   ],
   "source": [
    "import os\n",
    "import shutil\n",
    "import random\n",
    "\n",
    "# Set a seed for reproducibility\n",
    "random.seed(42)\n",
    "\n",
    "percent = 0.1\n",
    "\n",
    "# Define the paths\n",
    "source_dir = \"../../sign_datasets/hagrid-classification-512p\"\n",
    "target_dir = f\"../../sign_datasets/hagrid-classification-512p-{int(percent*100)}-percent\"\n",
    "\n",
    "# Create the target directory if it doesn't exist\n",
    "os.makedirs(target_dir, exist_ok=True)\n",
    "\n",
    "# Iterate over each class folder in the source directory\n",
    "for class_folder in os.listdir(source_dir):\n",
    "    class_path = os.path.join(source_dir, class_folder)\n",
    "    \n",
    "    if os.path.isdir(class_path):  # Ensure it's a directory\n",
    "        # Get all image files in the current class folder\n",
    "        images = [f for f in os.listdir(class_path) if os.path.isfile(os.path.join(class_path, f))]\n",
    "        \n",
    "        # Select percent of the images randomly\n",
    "        subset_size = max(1, int(len(images) * percent))  # At least 1 image\n",
    "        subset_images = random.sample(images, subset_size)\n",
    "        \n",
    "        # Create the corresponding class folder in the target directory\n",
    "        target_class_path = os.path.join(target_dir, class_folder)\n",
    "        os.makedirs(target_class_path, exist_ok=True)\n",
    "        \n",
    "        # Copy the selected images to the new directory\n",
    "        for image in subset_images:\n",
    "            src_image_path = os.path.join(class_path, image)\n",
    "            dst_image_path = os.path.join(target_class_path, image)\n",
    "            shutil.copy(src_image_path, dst_image_path)\n",
    "\n",
    "print(f\"{int(percent*100)}% subset of the dataset has been created at: {target_dir}\")\n"
   ]
  },
  {
   "cell_type": "code",
   "execution_count": null,
   "metadata": {},
   "outputs": [],
   "source": []
  }
 ],
 "metadata": {
  "kernelspec": {
   "display_name": ".venv",
   "language": "python",
   "name": "python3"
  },
  "language_info": {
   "codemirror_mode": {
    "name": "ipython",
    "version": 3
   },
   "file_extension": ".py",
   "mimetype": "text/x-python",
   "name": "python",
   "nbconvert_exporter": "python",
   "pygments_lexer": "ipython3",
   "version": "3.11.2"
  }
 },
 "nbformat": 4,
 "nbformat_minor": 2
}
