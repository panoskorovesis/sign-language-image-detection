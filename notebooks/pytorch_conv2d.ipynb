{
 "cells": [
  {
   "cell_type": "code",
   "execution_count": 1,
   "metadata": {},
   "outputs": [
    {
     "name": "stdout",
     "output_type": "stream",
     "text": [
      "using device: cuda\n"
     ]
    }
   ],
   "source": [
    "import torch\n",
    "from torchvision import datasets, transforms\n",
    "from torch.utils.data import DataLoader, random_split\n",
    "from PIL import Image\n",
    "from tqdm import tqdm\n",
    "import os\n",
    "from collections import Counter\n",
    "import numpy as np\n",
    "import matplotlib.pyplot as plt\n",
    "import torch.nn as nn\n",
    "import torch.optim as optim\n",
    "import torch.nn.functional as F \n",
    "\n",
    "USE_GPU = True\n",
    "dtype = torch.float32 # We will be using float\n",
    "\n",
    "if USE_GPU and torch.cuda.is_available():\n",
    "    device = torch.device('cuda')\n",
    "else:\n",
    "    device = torch.device('cpu')\n",
    "\n",
    "# Constant to control how frequently we print train loss.\n",
    "print_every = 100\n",
    "print('using device:', device)"
   ]
  },
  {
   "cell_type": "code",
   "execution_count": 2,
   "metadata": {},
   "outputs": [
    {
     "name": "stdout",
     "output_type": "stream",
     "text": [
      "Total samples: 55500\n",
      "Training set size: 38850\n",
      "Validation set size: 11100\n",
      "Test set size: 5550\n"
     ]
    }
   ],
   "source": [
    "# Define the path to the dataset\n",
    "dataset_path = \"sign_datasets/sign-language-gesture-images-dataset/Gesture Image Data\"\n",
    "\n",
    "# Define the batch size\n",
    "batch_size = 64\n",
    "\n",
    "# Load the dataset without transformations\n",
    "dataset = datasets.ImageFolder(root=dataset_path)\n",
    "\n",
    "# Get the total number of samples\n",
    "total_samples = len(dataset)\n",
    "train_size = int(0.7 * total_samples)\n",
    "val_size = int(0.2 * total_samples)\n",
    "test_size = total_samples - train_size - val_size\n",
    "\n",
    "# Print the sizes of each split\n",
    "print(f\"Total samples: {total_samples}\")\n",
    "print(f\"Training set size: {train_size}\")\n",
    "print(f\"Validation set size: {val_size}\")\n",
    "print(f\"Test set size: {test_size}\")"
   ]
  },
  {
   "cell_type": "code",
   "execution_count": 3,
   "metadata": {},
   "outputs": [
    {
     "name": "stdout",
     "output_type": "stream",
     "text": [
      "Class names: ['0', '1', '2', '3', '4', '5', '6', '7', '8', '9', 'A', 'B', 'C', 'D', 'E', 'F', 'G', 'H', 'I', 'J', 'K', 'L', 'M', 'N', 'O', 'P', 'Q', 'R', 'S', 'T', 'U', 'V', 'W', 'X', 'Y', 'Z', '_']\n",
      "Train Batch - Images shape: torch.Size([64, 3, 50, 50])\n",
      "Train Batch - Labels shape: torch.Size([64])\n",
      "Train set size: 38850\n",
      "Validation set size: 11100\n",
      "Test set size: 5550\n",
      "Train DataLoader size: 608\n",
      "Validation DataLoader size: 174\n",
      "Test DataLoader size: 87\n"
     ]
    }
   ],
   "source": [
    "# Already computed mean and std\n",
    "computed_mean = [0.5273298025131226, 0.4507707953453064, 0.4120909869670868]\n",
    "computed_std = [0.5632718205451965, 0.5085217952728271, 0.48751917481422424]\n",
    "\n",
    "# Define the transformations\n",
    "transform = transforms.Compose([\n",
    "    #transforms.Resize((X, Y)),  # Resize images to X,Y if necessary\n",
    "    transforms.ToTensor(),       # Convert images to PyTorch tensors\n",
    "    transforms.Normalize(mean=computed_mean, std=computed_std)  # Normalize\n",
    "])\n",
    "\n",
    "dataset = datasets.ImageFolder(root=dataset_path, transform=transform)\n",
    "\n",
    "# Split the dataset into train, validation, and test sets\n",
    "train_dataset, val_dataset, test_dataset = random_split(dataset, [train_size, val_size, test_size])\n",
    "\n",
    "# Create DataLoaders for each split\n",
    "train_loader = DataLoader(train_dataset, batch_size=batch_size, shuffle=True)\n",
    "val_loader = DataLoader(val_dataset, batch_size=batch_size, shuffle=False)\n",
    "test_loader = DataLoader(test_dataset, batch_size=batch_size, shuffle=False)\n",
    "\n",
    "# Get class names\n",
    "class_names = dataset.classes\n",
    "print(\"Class names:\", class_names)\n",
    "\n",
    "# Example of iterating through the train DataLoader\n",
    "for images, labels in train_loader:\n",
    "    print(\"Train Batch - Images shape:\", images.shape)\n",
    "    print(\"Train Batch - Labels shape:\", labels.shape)\n",
    "    break\n",
    "\n",
    "# Print dataset sizes for verification\n",
    "print(f\"Train set size: {len(train_dataset)}\")\n",
    "print(f\"Validation set size: {len(val_dataset)}\")\n",
    "print(f\"Test set size: {len(test_dataset)}\")\n",
    "\n",
    "len_train_loader = len(train_loader)\n",
    "len_val_loader = len(val_loader)\n",
    "len_test_loader = len(test_loader)\n",
    "\n",
    "# Print DataLoader sizes for verification\n",
    "print(f\"Train DataLoader size: {len(train_loader)}\")\n",
    "print(f\"Validation DataLoader size: {len(val_loader)}\")\n",
    "print(f\"Test DataLoader size: {len(test_loader)}\")"
   ]
  },
  {
   "cell_type": "code",
   "execution_count": 4,
   "metadata": {},
   "outputs": [],
   "source": [
    "def check_accuracy_part(loader, model, return_acc = False):\n",
    "    # Determine the split type\n",
    "    if len(loader) == len_train_loader:\n",
    "        split = 'train'\n",
    "    elif len(loader) == len_val_loader:\n",
    "        split = 'val'\n",
    "    elif len(loader) == len_test_loader:\n",
    "        split = 'test'\n",
    "\n",
    "    print(f'Checking accuracy on the {split} set')\n",
    "\n",
    "    # init counters\n",
    "    num_correct = 0\n",
    "    num_samples = 0\n",
    "\n",
    "    # set model to evaluation mode\n",
    "    model.eval()  \n",
    "\n",
    "     # Disable gradient computation as we dont train\n",
    "    with torch.no_grad():\n",
    "        for x, y in loader:\n",
    "            x = x.to(device=device, dtype=dtype) # move to device, e.g. GPU\n",
    "            y = y.to(device=device, dtype=torch.long)  # use torch.long for labels\n",
    "\n",
    "            # forward pass\n",
    "            scores = model(x)\n",
    "            _, preds = scores.max(1)  # get predicted class -> highest score\n",
    "\n",
    "            # Count correct predictions and total samples\n",
    "            correct_predictions = preds == y  # True if correct - False otherwise\n",
    "            num_correct_batch = correct_predictions.sum().item() # count the correct predictions\n",
    "            num_correct = num_correct + num_correct_batch\n",
    "\n",
    "            num_samples_batch = preds.size(0)  # get the batch size\n",
    "            num_samples = num_samples + num_samples_batch\n",
    "\n",
    "    # compute and print accuracy\n",
    "    acc = float(num_correct) / num_samples\n",
    "    print('Got %d / %d correct (%.2f%%)' % (num_correct, num_samples, 100 * acc))\n",
    "    \n",
    "    if return_acc == True:\n",
    "        return 100 * acc"
   ]
  },
  {
   "cell_type": "code",
   "execution_count": 6,
   "metadata": {},
   "outputs": [],
   "source": [
    "def train_part(model, optimizer, epochs=1, return_acc = False, check_train_set = False, check_test_set = False):\n",
    "\n",
    "    # List to store validation and train accuracies at each epoch where needed\n",
    "    val_accs = []\n",
    "    train_accs = []\n",
    "\n",
    "    model = model.to(device=device)  # move the model parameters to CPU/GPU\n",
    "    for e in range(epochs):\n",
    "        for t, (x, y) in enumerate(train_loader):\n",
    "            model.train()  # put model to training mode\n",
    "            x = x.to(device=device, dtype=dtype)  # move to device, e.g. GPU\n",
    "            y = y.to(device=device, dtype=torch.long)\n",
    "\n",
    "            scores = model(x)\n",
    "            loss = F.cross_entropy(scores, y)\n",
    "\n",
    "            # Zero out all of the gradients for the variables which the optimizer\n",
    "            # will update.\n",
    "            optimizer.zero_grad()\n",
    "\n",
    "            # This is the backwards pass: compute the gradient of the loss with\n",
    "            # respect to each  parameter of the model.\n",
    "            loss.backward()\n",
    "\n",
    "            # Actually update the parameters of the model using the gradients\n",
    "            # computed by the backwards pass.\n",
    "            optimizer.step()\n",
    "\n",
    "            if t % print_every == 0:\n",
    "                print('Iteration %d, loss = %.4f' % (t, loss.item()))\n",
    "                check_accuracy_part(val_loader, model)\n",
    "                print()\n",
    "\n",
    "        # After each epoch, check accuracies\n",
    "        val_acc = check_accuracy_part(val_loader, model, return_acc=True)\n",
    "        val_accs.append(val_acc)\n",
    "        print(f\"Validation Accuracy after epoch {e+1}: {val_acc:.2f}%\")\n",
    "        \n",
    "        # Return accuracies if requested\n",
    "        if check_train_set:\n",
    "            train_acc = check_accuracy_part(train_loader, model, return_acc=True)\n",
    "            train_accs.append(train_acc)\n",
    "            print(f\"Training Accuracy after epoch {e+1}: {train_acc:.2f}%\")\n",
    "\n",
    "    # Return accuracies if requested\n",
    "    if return_acc:\n",
    "        if check_train_set:  # If requested, return both validation and training accuracies\n",
    "            return val_accs, train_accs\n",
    "        if check_test_set:  # If requested, return the validation accuracy and test accuracy\n",
    "            test_acc = check_accuracy_part(test_loader, model, return_acc=True)  # Check test set accuracy\n",
    "            return val_accs[-1], test_acc  # Return the most recent validation accuracy and the test accuracy\n",
    "        return val_accs  # Return only validation accuracies if no other set (train or test) is specified"
   ]
  },
  {
   "cell_type": "code",
   "execution_count": 8,
   "metadata": {},
   "outputs": [
    {
     "name": "stdout",
     "output_type": "stream",
     "text": [
      "Iteration 0, loss = 3.6187\n",
      "Checking accuracy on the val set\n",
      "Got 236 / 11100 correct (2.13%)\n",
      "\n",
      "Iteration 100, loss = 0.2686\n",
      "Checking accuracy on the val set\n",
      "Got 10090 / 11100 correct (90.90%)\n",
      "\n",
      "Iteration 200, loss = 0.0505\n",
      "Checking accuracy on the val set\n",
      "Got 10839 / 11100 correct (97.65%)\n",
      "\n",
      "Iteration 300, loss = 0.0139\n",
      "Checking accuracy on the val set\n",
      "Got 11033 / 11100 correct (99.40%)\n",
      "\n",
      "Iteration 400, loss = 0.0351\n",
      "Checking accuracy on the val set\n",
      "Got 11041 / 11100 correct (99.47%)\n",
      "\n",
      "Iteration 500, loss = 0.0192\n",
      "Checking accuracy on the val set\n",
      "Got 11073 / 11100 correct (99.76%)\n",
      "\n",
      "Iteration 600, loss = 0.0036\n",
      "Checking accuracy on the val set\n",
      "Got 11053 / 11100 correct (99.58%)\n",
      "\n",
      "Checking accuracy on the val set\n",
      "Got 10799 / 11100 correct (97.29%)\n",
      "Validation Accuracy after epoch 1: 97.29%\n",
      "Checking accuracy on the test set\n",
      "Got 5419 / 5550 correct (97.64%)\n",
      "\n",
      "########### Final Results ###########\n",
      "Validation Accuracy: 97.2882882882883\n",
      "Test Accuracy: 97.63963963963964\n"
     ]
    }
   ],
   "source": [
    "# 1. Convolutional layer (with bias) with 32 5x5 filters, with zero-padding of 2\n",
    "# 2. ReLU\n",
    "# 3. Convolutional layer (with bias) with 16 3x3 filters, with zero-padding of 1\n",
    "# 4. ReLU\n",
    "# 5. Fully-connected layer (with bias) to compute scores for the classes\n",
    "\n",
    "channel_1 = 32\n",
    "channel_2 = 16\n",
    "learning_rate = 1e-3\n",
    "\n",
    "in_channel = 3\n",
    "num_classes = len(class_names)\n",
    "\n",
    "# Define the model using nn.Sequential\n",
    "model = nn.Sequential(\n",
    "    nn.Conv2d(in_channel, channel_1, kernel_size=5, padding=2), # First conv layer with Relu\n",
    "    nn.ReLU(),\n",
    "    nn.Conv2d(channel_1, channel_2, kernel_size=3, padding=1), # Second conv layer with Relu\n",
    "    nn.ReLU(),                                             \n",
    "    nn.Flatten(), # Flatten the output\n",
    "    nn.Linear(channel_2 * 50 * 50, num_classes) # Fully-connected layer, (channel_2 * 50 * 50) -> the number of features coming into the fully connected layer.\n",
    ")\n",
    "\n",
    "# You should optimize your model using stochastic gradient descent with Nesterov momentum 0.9.\n",
    "optimizer = optim.SGD(model.parameters(), lr=learning_rate,\n",
    "                     momentum=0.9, nesterov=True)\n",
    "\n",
    "\n",
    "val_acc, test_acc = train_part(model, optimizer, return_acc=True, check_test_set = True)\n",
    "\n",
    "\n",
    "# Print the validation and test accuracies\n",
    "print()\n",
    "print('########### Final Results ###########')\n",
    "print(\"Validation Accuracy:\", val_acc)\n",
    "print(\"Test Accuracy:\", test_acc)"
   ]
  },
  {
   "cell_type": "code",
   "execution_count": 45,
   "metadata": {},
   "outputs": [],
   "source": [
    "# Save the model's state_dict\n",
    "torch.save(model, 'model.pth')"
   ]
  },
  {
   "cell_type": "code",
   "execution_count": 6,
   "metadata": {},
   "outputs": [
    {
     "name": "stderr",
     "output_type": "stream",
     "text": [
      "/tmp/ipykernel_2080331/2237739796.py:1: FutureWarning: You are using `torch.load` with `weights_only=False` (the current default value), which uses the default pickle module implicitly. It is possible to construct malicious pickle data which will execute arbitrary code during unpickling (See https://github.com/pytorch/pytorch/blob/main/SECURITY.md#untrusted-models for more details). In a future release, the default value for `weights_only` will be flipped to `True`. This limits the functions that could be executed during unpickling. Arbitrary objects will no longer be allowed to be loaded via this mode unless they are explicitly allowlisted by the user via `torch.serialization.add_safe_globals`. We recommend you start setting `weights_only=True` for any use case where you don't have full control of the loaded file. Please open an issue on GitHub for any issues related to this experimental feature.\n",
      "  model = torch.load('model.pth')  # Load the entire model\n"
     ]
    },
    {
     "data": {
      "text/plain": [
       "Sequential(\n",
       "  (0): Flatten()\n",
       "  (1): Linear(in_features=7500, out_features=500, bias=True)\n",
       "  (2): ReLU()\n",
       "  (3): Linear(in_features=500, out_features=37, bias=True)\n",
       ")"
      ]
     },
     "execution_count": 6,
     "metadata": {},
     "output_type": "execute_result"
    }
   ],
   "source": [
    "model = torch.load('model.pth')  # Load the entire model\n",
    "\n",
    "# Move the model to device\n",
    "model = model.to(device)\n",
    "\n",
    "# Set the model to evaluation mode\n",
    "model.eval()"
   ]
  },
  {
   "cell_type": "code",
   "execution_count": 30,
   "metadata": {},
   "outputs": [
    {
     "data": {
      "image/png": "[encoded data removed]",
      "text/plain": [
       "<Figure size 640x480 with 1 Axes>"
      ]
     },
     "metadata": {},
     "output_type": "display_data"
    }
   ],
   "source": [
    "# Path to the image\n",
    "#image_path = \"sign_datasets/sign-language-gesture-images-dataset/Gesture Image Data/_/67.jpg\"\n",
    "#image_path = \"sign_datasets/sign-language-gesture-images-dataset/Gesture Image PreProc1essed Data/S/67.jpg\"\n",
    "image_path = \"sign_datasets/custom-dataset/_/0.jpg\"\n",
    "\n",
    "# Define the transformations (same as during training)\n",
    "transform = transforms.Compose([\n",
    "    transforms.ToTensor(),\n",
    "    transforms.Normalize(mean=computed_mean, std=computed_std)\n",
    "])\n",
    "\n",
    "# Load the image\n",
    "image = Image.open(image_path)\n",
    "image = image.convert(\"RGB\")  # Ensure 3-channel RGB\n",
    "image = image.resize((50, 50))  # Resize to match the input size if necessary\n",
    "\n",
    "# Plot the resized image\n",
    "plt.imshow(image)\n",
    "plt.axis('off')  # Hide axes\n",
    "plt.show()\n",
    "\n",
    "# Apply the transformations\n",
    "input_tensor = transform(image).unsqueeze(0).to(device)  # Add batch dimension"
   ]
  },
  {
   "cell_type": "code",
   "execution_count": 31,
   "metadata": {},
   "outputs": [
    {
     "name": "stdout",
     "output_type": "stream",
     "text": [
      "Predicted class: C\n"
     ]
    }
   ],
   "source": [
    "# Perform inference\n",
    "with torch.no_grad():\n",
    "    output = model(input_tensor)  # Raw scores (logits)\n",
    "    predicted_idx = torch.argmax(output, dim=1).item()  # Get the index of the highest logit\n",
    "    predicted_class = class_names[predicted_idx]  # Map to class name\n",
    "\n",
    "print(f\"Predicted class: {predicted_class}\")"
   ]
  },
  {
   "cell_type": "code",
   "execution_count": null,
   "metadata": {},
   "outputs": [],
   "source": []
  }
 ],
 "metadata": {
  "kernelspec": {
   "display_name": "Python 3 (ipykernel)",
   "language": "python",
   "name": "python3"
  },
  "language_info": {
   "codemirror_mode": {
    "name": "ipython",
    "version": 3
   },
   "file_extension": ".py",
   "mimetype": "text/x-python",
   "name": "python",
   "nbconvert_exporter": "python",
   "pygments_lexer": "ipython3",
   "version": "3.11.2"
  }
 },
 "nbformat": 4,
 "nbformat_minor": 4
}
